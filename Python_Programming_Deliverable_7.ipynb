{
  "nbformat": 4,
  "nbformat_minor": 0,
  "metadata": {
    "colab": {
      "provenance": [],
      "authorship_tag": "ABX9TyOwihJlrk7d36blIFrqFP7J",
      "include_colab_link": true
    },
    "kernelspec": {
      "name": "python3",
      "display_name": "Python 3"
    },
    "language_info": {
      "name": "python"
    }
  },
  "cells": [
    {
      "cell_type": "markdown",
      "metadata": {
        "id": "view-in-github",
        "colab_type": "text"
      },
      "source": [
        "<a href=\"https://colab.research.google.com/github/subhan-faisal/Deliverable-7/blob/main/Python_Programming_Deliverable_7.ipynb\" target=\"_parent\"><img src=\"https://colab.research.google.com/assets/colab-badge.svg\" alt=\"Open In Colab\"/></a>"
      ]
    },
    {
      "cell_type": "code",
      "execution_count": 1,
      "metadata": {
        "colab": {
          "base_uri": "https://localhost:8080/"
        },
        "id": "cLSxe-1sHT2F",
        "outputId": "f1bc722e-22f7-4d6d-9aa0-5aaea5641fdc"
      },
      "outputs": [
        {
          "output_type": "stream",
          "name": "stdout",
          "text": [
            "Enter an integer number between 5 and 15: 8\n",
            "The elements of the arrays are: 35 20 33 39 13 11 19 14 \n",
            "The sum is: 184\n"
          ]
        }
      ],
      "source": [
        "import random\n",
        "\n",
        "def method1(n):\n",
        "    arr = []\n",
        "    for i in range(n):\n",
        "        arr.append(random.randint(10, 50))\n",
        "        \n",
        "    print(\"The elements of the arrays are: \",end=\"\")\n",
        "    for i in arr:\n",
        "        print(i,end=\" \")\n",
        "    \n",
        "    return arr\n",
        "\n",
        "def method2(A):\n",
        "    sum=0 \n",
        "    for i in A:\n",
        "        sum+=i\n",
        "    return sum\n",
        "\n",
        "\n",
        "while(True):\n",
        "    n=int(input(\"Enter an integer number between 5 and 15: \"))\n",
        "    if n>=5 and n<=15:\n",
        "        break\n",
        "    else:\n",
        "        print(\"Invalid input!\")\n",
        "\n",
        "A = method1(n)\n",
        "result = method2(A)\n",
        "print(\"\\nThe sum is:\",result)"
      ]
    }
  ]
}